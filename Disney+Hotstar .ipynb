{
 "cells": [
  {
   "cell_type": "code",
   "execution_count": 1,
   "id": "6730ed02-51d9-4e35-bdad-3ac1c9877f0f",
   "metadata": {},
   "outputs": [],
   "source": [
    "import pandas as pd"
   ]
  },
  {
   "cell_type": "code",
   "execution_count": 9,
   "id": "2526d06e-7db0-423e-8ecc-06bf3e9ca6ef",
   "metadata": {},
   "outputs": [
    {
     "data": {
      "text/html": [
       "<div>\n",
       "<style scoped>\n",
       "    .dataframe tbody tr th:only-of-type {\n",
       "        vertical-align: middle;\n",
       "    }\n",
       "\n",
       "    .dataframe tbody tr th {\n",
       "        vertical-align: top;\n",
       "    }\n",
       "\n",
       "    .dataframe thead th {\n",
       "        text-align: right;\n",
       "    }\n",
       "</style>\n",
       "<table border=\"1\" class=\"dataframe\">\n",
       "  <thead>\n",
       "    <tr style=\"text-align: right;\">\n",
       "      <th></th>\n",
       "      <th>hotstar_id</th>\n",
       "      <th>title</th>\n",
       "      <th>description</th>\n",
       "      <th>genre</th>\n",
       "      <th>year</th>\n",
       "      <th>age_rating</th>\n",
       "      <th>running_time</th>\n",
       "      <th>seasons</th>\n",
       "      <th>episodes</th>\n",
       "      <th>type</th>\n",
       "    </tr>\n",
       "  </thead>\n",
       "  <tbody>\n",
       "    <tr>\n",
       "      <th>0</th>\n",
       "      <td>1000087439</td>\n",
       "      <td>Sambha - Aajcha Chawa</td>\n",
       "      <td>A young man sets off on a mission to clean up ...</td>\n",
       "      <td>Action</td>\n",
       "      <td>2012</td>\n",
       "      <td>U/A 16+</td>\n",
       "      <td>141.0</td>\n",
       "      <td>NaN</td>\n",
       "      <td>NaN</td>\n",
       "      <td>movie</td>\n",
       "    </tr>\n",
       "    <tr>\n",
       "      <th>1</th>\n",
       "      <td>1260023113</td>\n",
       "      <td>Cars Toon: Mater And The Ghostlight</td>\n",
       "      <td>Mater is haunted by a mysterious blue light th...</td>\n",
       "      <td>Animation</td>\n",
       "      <td>2006</td>\n",
       "      <td>U</td>\n",
       "      <td>7.0</td>\n",
       "      <td>NaN</td>\n",
       "      <td>NaN</td>\n",
       "      <td>movie</td>\n",
       "    </tr>\n",
       "    <tr>\n",
       "      <th>2</th>\n",
       "      <td>1260103188</td>\n",
       "      <td>Kanmani Rambo Khatija</td>\n",
       "      <td>Unlucky since birth, Rambo finds hope when he ...</td>\n",
       "      <td>Romance</td>\n",
       "      <td>2022</td>\n",
       "      <td>U/A 16+</td>\n",
       "      <td>157.0</td>\n",
       "      <td>NaN</td>\n",
       "      <td>NaN</td>\n",
       "      <td>movie</td>\n",
       "    </tr>\n",
       "    <tr>\n",
       "      <th>3</th>\n",
       "      <td>1260126754</td>\n",
       "      <td>Butterfly</td>\n",
       "      <td>While trying to rescue her sister's kids from ...</td>\n",
       "      <td>Thriller</td>\n",
       "      <td>2022</td>\n",
       "      <td>U/A 16+</td>\n",
       "      <td>136.0</td>\n",
       "      <td>NaN</td>\n",
       "      <td>NaN</td>\n",
       "      <td>movie</td>\n",
       "    </tr>\n",
       "    <tr>\n",
       "      <th>4</th>\n",
       "      <td>1260018228</td>\n",
       "      <td>Sister Act</td>\n",
       "      <td>Rene, a lounge singer, decides to stay at a Ch...</td>\n",
       "      <td>Comedy</td>\n",
       "      <td>1992</td>\n",
       "      <td>U/A 7+</td>\n",
       "      <td>100.0</td>\n",
       "      <td>NaN</td>\n",
       "      <td>NaN</td>\n",
       "      <td>movie</td>\n",
       "    </tr>\n",
       "    <tr>\n",
       "      <th>...</th>\n",
       "      <td>...</td>\n",
       "      <td>...</td>\n",
       "      <td>...</td>\n",
       "      <td>...</td>\n",
       "      <td>...</td>\n",
       "      <td>...</td>\n",
       "      <td>...</td>\n",
       "      <td>...</td>\n",
       "      <td>...</td>\n",
       "      <td>...</td>\n",
       "    </tr>\n",
       "    <tr>\n",
       "      <th>6869</th>\n",
       "      <td>1260127438</td>\n",
       "      <td>Will Trent</td>\n",
       "      <td>SHOW ON BREAK- NEXT EPISODE ON 15TH FEB. Speci...</td>\n",
       "      <td>Crime</td>\n",
       "      <td>2023</td>\n",
       "      <td>U/A 16+</td>\n",
       "      <td>NaN</td>\n",
       "      <td>1.0</td>\n",
       "      <td>5.0</td>\n",
       "      <td>tv</td>\n",
       "    </tr>\n",
       "    <tr>\n",
       "      <th>6870</th>\n",
       "      <td>1260008508</td>\n",
       "      <td>KBD Juniors - Qualifiers</td>\n",
       "      <td>Match highlights of Kabaddi Junior</td>\n",
       "      <td>Sport</td>\n",
       "      <td>2019</td>\n",
       "      <td>U</td>\n",
       "      <td>NaN</td>\n",
       "      <td>1.0</td>\n",
       "      <td>32.0</td>\n",
       "      <td>tv</td>\n",
       "    </tr>\n",
       "    <tr>\n",
       "      <th>6871</th>\n",
       "      <td>12551</td>\n",
       "      <td>Dil Hai Hindustani</td>\n",
       "      <td>Sway to the tunes of the best Hindi/Bollywood ...</td>\n",
       "      <td>Reality</td>\n",
       "      <td>2017</td>\n",
       "      <td>U/A 13+</td>\n",
       "      <td>NaN</td>\n",
       "      <td>2.0</td>\n",
       "      <td>57.0</td>\n",
       "      <td>tv</td>\n",
       "    </tr>\n",
       "    <tr>\n",
       "      <th>6872</th>\n",
       "      <td>1260065225</td>\n",
       "      <td>On The Brink</td>\n",
       "      <td>The series reveals the hidden splendours of In...</td>\n",
       "      <td>Animals &amp; Nature</td>\n",
       "      <td>2021</td>\n",
       "      <td>U/A 7+</td>\n",
       "      <td>NaN</td>\n",
       "      <td>2.0</td>\n",
       "      <td>18.0</td>\n",
       "      <td>tv</td>\n",
       "    </tr>\n",
       "    <tr>\n",
       "      <th>6873</th>\n",
       "      <td>1260129361</td>\n",
       "      <td>Mahanadhi</td>\n",
       "      <td>Tragedy befalls a happy middle-class family af...</td>\n",
       "      <td>Family</td>\n",
       "      <td>2023</td>\n",
       "      <td>U/A 13+</td>\n",
       "      <td>NaN</td>\n",
       "      <td>1.0</td>\n",
       "      <td>10.0</td>\n",
       "      <td>tv</td>\n",
       "    </tr>\n",
       "  </tbody>\n",
       "</table>\n",
       "<p>6874 rows × 10 columns</p>\n",
       "</div>"
      ],
      "text/plain": [
       "      hotstar_id                                title  \\\n",
       "0     1000087439                Sambha - Aajcha Chawa   \n",
       "1     1260023113  Cars Toon: Mater And The Ghostlight   \n",
       "2     1260103188                Kanmani Rambo Khatija   \n",
       "3     1260126754                            Butterfly   \n",
       "4     1260018228                           Sister Act   \n",
       "...          ...                                  ...   \n",
       "6869  1260127438                           Will Trent   \n",
       "6870  1260008508             KBD Juniors - Qualifiers   \n",
       "6871       12551                   Dil Hai Hindustani   \n",
       "6872  1260065225                         On The Brink   \n",
       "6873  1260129361                            Mahanadhi   \n",
       "\n",
       "                                            description             genre  \\\n",
       "0     A young man sets off on a mission to clean up ...            Action   \n",
       "1     Mater is haunted by a mysterious blue light th...         Animation   \n",
       "2     Unlucky since birth, Rambo finds hope when he ...           Romance   \n",
       "3     While trying to rescue her sister's kids from ...          Thriller   \n",
       "4     Rene, a lounge singer, decides to stay at a Ch...            Comedy   \n",
       "...                                                 ...               ...   \n",
       "6869  SHOW ON BREAK- NEXT EPISODE ON 15TH FEB. Speci...             Crime   \n",
       "6870                 Match highlights of Kabaddi Junior             Sport   \n",
       "6871  Sway to the tunes of the best Hindi/Bollywood ...           Reality   \n",
       "6872  The series reveals the hidden splendours of In...  Animals & Nature   \n",
       "6873  Tragedy befalls a happy middle-class family af...            Family   \n",
       "\n",
       "      year age_rating  running_time  seasons  episodes   type  \n",
       "0     2012    U/A 16+         141.0      NaN       NaN  movie  \n",
       "1     2006          U           7.0      NaN       NaN  movie  \n",
       "2     2022    U/A 16+         157.0      NaN       NaN  movie  \n",
       "3     2022    U/A 16+         136.0      NaN       NaN  movie  \n",
       "4     1992     U/A 7+         100.0      NaN       NaN  movie  \n",
       "...    ...        ...           ...      ...       ...    ...  \n",
       "6869  2023    U/A 16+           NaN      1.0       5.0     tv  \n",
       "6870  2019          U           NaN      1.0      32.0     tv  \n",
       "6871  2017    U/A 13+           NaN      2.0      57.0     tv  \n",
       "6872  2021     U/A 7+           NaN      2.0      18.0     tv  \n",
       "6873  2023    U/A 13+           NaN      1.0      10.0     tv  \n",
       "\n",
       "[6874 rows x 10 columns]"
      ]
     },
     "execution_count": 9,
     "metadata": {},
     "output_type": "execute_result"
    }
   ],
   "source": [
    "df = pd.read_csv(\"hotstar.csv\")\n",
    "df"
   ]
  },
  {
   "cell_type": "code",
   "execution_count": 11,
   "id": "389b03f1-2264-4d63-8ef4-47cab6836076",
   "metadata": {},
   "outputs": [
    {
     "data": {
      "text/html": [
       "<div>\n",
       "<style scoped>\n",
       "    .dataframe tbody tr th:only-of-type {\n",
       "        vertical-align: middle;\n",
       "    }\n",
       "\n",
       "    .dataframe tbody tr th {\n",
       "        vertical-align: top;\n",
       "    }\n",
       "\n",
       "    .dataframe thead th {\n",
       "        text-align: right;\n",
       "    }\n",
       "</style>\n",
       "<table border=\"1\" class=\"dataframe\">\n",
       "  <thead>\n",
       "    <tr style=\"text-align: right;\">\n",
       "      <th></th>\n",
       "      <th>hotstar_id</th>\n",
       "      <th>title</th>\n",
       "      <th>description</th>\n",
       "      <th>genre</th>\n",
       "      <th>year</th>\n",
       "      <th>age_rating</th>\n",
       "      <th>running_time</th>\n",
       "      <th>seasons</th>\n",
       "      <th>episodes</th>\n",
       "      <th>type</th>\n",
       "    </tr>\n",
       "  </thead>\n",
       "  <tbody>\n",
       "    <tr>\n",
       "      <th>0</th>\n",
       "      <td>1000087439</td>\n",
       "      <td>Sambha - Aajcha Chawa</td>\n",
       "      <td>A young man sets off on a mission to clean up ...</td>\n",
       "      <td>Action</td>\n",
       "      <td>2012</td>\n",
       "      <td>U/A 16+</td>\n",
       "      <td>141.0</td>\n",
       "      <td>NaN</td>\n",
       "      <td>NaN</td>\n",
       "      <td>movie</td>\n",
       "    </tr>\n",
       "    <tr>\n",
       "      <th>1</th>\n",
       "      <td>1260023113</td>\n",
       "      <td>Cars Toon: Mater And The Ghostlight</td>\n",
       "      <td>Mater is haunted by a mysterious blue light th...</td>\n",
       "      <td>Animation</td>\n",
       "      <td>2006</td>\n",
       "      <td>U</td>\n",
       "      <td>7.0</td>\n",
       "      <td>NaN</td>\n",
       "      <td>NaN</td>\n",
       "      <td>movie</td>\n",
       "    </tr>\n",
       "    <tr>\n",
       "      <th>2</th>\n",
       "      <td>1260103188</td>\n",
       "      <td>Kanmani Rambo Khatija</td>\n",
       "      <td>Unlucky since birth, Rambo finds hope when he ...</td>\n",
       "      <td>Romance</td>\n",
       "      <td>2022</td>\n",
       "      <td>U/A 16+</td>\n",
       "      <td>157.0</td>\n",
       "      <td>NaN</td>\n",
       "      <td>NaN</td>\n",
       "      <td>movie</td>\n",
       "    </tr>\n",
       "    <tr>\n",
       "      <th>3</th>\n",
       "      <td>1260126754</td>\n",
       "      <td>Butterfly</td>\n",
       "      <td>While trying to rescue her sister's kids from ...</td>\n",
       "      <td>Thriller</td>\n",
       "      <td>2022</td>\n",
       "      <td>U/A 16+</td>\n",
       "      <td>136.0</td>\n",
       "      <td>NaN</td>\n",
       "      <td>NaN</td>\n",
       "      <td>movie</td>\n",
       "    </tr>\n",
       "    <tr>\n",
       "      <th>4</th>\n",
       "      <td>1260018228</td>\n",
       "      <td>Sister Act</td>\n",
       "      <td>Rene, a lounge singer, decides to stay at a Ch...</td>\n",
       "      <td>Comedy</td>\n",
       "      <td>1992</td>\n",
       "      <td>U/A 7+</td>\n",
       "      <td>100.0</td>\n",
       "      <td>NaN</td>\n",
       "      <td>NaN</td>\n",
       "      <td>movie</td>\n",
       "    </tr>\n",
       "  </tbody>\n",
       "</table>\n",
       "</div>"
      ],
      "text/plain": [
       "   hotstar_id                                title  \\\n",
       "0  1000087439                Sambha - Aajcha Chawa   \n",
       "1  1260023113  Cars Toon: Mater And The Ghostlight   \n",
       "2  1260103188                Kanmani Rambo Khatija   \n",
       "3  1260126754                            Butterfly   \n",
       "4  1260018228                           Sister Act   \n",
       "\n",
       "                                         description      genre  year  \\\n",
       "0  A young man sets off on a mission to clean up ...     Action  2012   \n",
       "1  Mater is haunted by a mysterious blue light th...  Animation  2006   \n",
       "2  Unlucky since birth, Rambo finds hope when he ...    Romance  2022   \n",
       "3  While trying to rescue her sister's kids from ...   Thriller  2022   \n",
       "4  Rene, a lounge singer, decides to stay at a Ch...     Comedy  1992   \n",
       "\n",
       "  age_rating  running_time  seasons  episodes   type  \n",
       "0    U/A 16+         141.0      NaN       NaN  movie  \n",
       "1          U           7.0      NaN       NaN  movie  \n",
       "2    U/A 16+         157.0      NaN       NaN  movie  \n",
       "3    U/A 16+         136.0      NaN       NaN  movie  \n",
       "4     U/A 7+         100.0      NaN       NaN  movie  "
      ]
     },
     "execution_count": 11,
     "metadata": {},
     "output_type": "execute_result"
    }
   ],
   "source": [
    "df.head()"
   ]
  },
  {
   "cell_type": "code",
   "execution_count": 13,
   "id": "693f2366-c746-43e7-a628-ff1aa7c3fcb8",
   "metadata": {},
   "outputs": [
    {
     "data": {
      "text/html": [
       "<div>\n",
       "<style scoped>\n",
       "    .dataframe tbody tr th:only-of-type {\n",
       "        vertical-align: middle;\n",
       "    }\n",
       "\n",
       "    .dataframe tbody tr th {\n",
       "        vertical-align: top;\n",
       "    }\n",
       "\n",
       "    .dataframe thead th {\n",
       "        text-align: right;\n",
       "    }\n",
       "</style>\n",
       "<table border=\"1\" class=\"dataframe\">\n",
       "  <thead>\n",
       "    <tr style=\"text-align: right;\">\n",
       "      <th></th>\n",
       "      <th>hotstar_id</th>\n",
       "      <th>title</th>\n",
       "      <th>description</th>\n",
       "      <th>genre</th>\n",
       "      <th>year</th>\n",
       "      <th>age_rating</th>\n",
       "      <th>running_time</th>\n",
       "      <th>seasons</th>\n",
       "      <th>episodes</th>\n",
       "      <th>type</th>\n",
       "    </tr>\n",
       "  </thead>\n",
       "  <tbody>\n",
       "    <tr>\n",
       "      <th>6869</th>\n",
       "      <td>1260127438</td>\n",
       "      <td>Will Trent</td>\n",
       "      <td>SHOW ON BREAK- NEXT EPISODE ON 15TH FEB. Speci...</td>\n",
       "      <td>Crime</td>\n",
       "      <td>2023</td>\n",
       "      <td>U/A 16+</td>\n",
       "      <td>NaN</td>\n",
       "      <td>1.0</td>\n",
       "      <td>5.0</td>\n",
       "      <td>tv</td>\n",
       "    </tr>\n",
       "    <tr>\n",
       "      <th>6870</th>\n",
       "      <td>1260008508</td>\n",
       "      <td>KBD Juniors - Qualifiers</td>\n",
       "      <td>Match highlights of Kabaddi Junior</td>\n",
       "      <td>Sport</td>\n",
       "      <td>2019</td>\n",
       "      <td>U</td>\n",
       "      <td>NaN</td>\n",
       "      <td>1.0</td>\n",
       "      <td>32.0</td>\n",
       "      <td>tv</td>\n",
       "    </tr>\n",
       "    <tr>\n",
       "      <th>6871</th>\n",
       "      <td>12551</td>\n",
       "      <td>Dil Hai Hindustani</td>\n",
       "      <td>Sway to the tunes of the best Hindi/Bollywood ...</td>\n",
       "      <td>Reality</td>\n",
       "      <td>2017</td>\n",
       "      <td>U/A 13+</td>\n",
       "      <td>NaN</td>\n",
       "      <td>2.0</td>\n",
       "      <td>57.0</td>\n",
       "      <td>tv</td>\n",
       "    </tr>\n",
       "    <tr>\n",
       "      <th>6872</th>\n",
       "      <td>1260065225</td>\n",
       "      <td>On The Brink</td>\n",
       "      <td>The series reveals the hidden splendours of In...</td>\n",
       "      <td>Animals &amp; Nature</td>\n",
       "      <td>2021</td>\n",
       "      <td>U/A 7+</td>\n",
       "      <td>NaN</td>\n",
       "      <td>2.0</td>\n",
       "      <td>18.0</td>\n",
       "      <td>tv</td>\n",
       "    </tr>\n",
       "    <tr>\n",
       "      <th>6873</th>\n",
       "      <td>1260129361</td>\n",
       "      <td>Mahanadhi</td>\n",
       "      <td>Tragedy befalls a happy middle-class family af...</td>\n",
       "      <td>Family</td>\n",
       "      <td>2023</td>\n",
       "      <td>U/A 13+</td>\n",
       "      <td>NaN</td>\n",
       "      <td>1.0</td>\n",
       "      <td>10.0</td>\n",
       "      <td>tv</td>\n",
       "    </tr>\n",
       "  </tbody>\n",
       "</table>\n",
       "</div>"
      ],
      "text/plain": [
       "      hotstar_id                     title  \\\n",
       "6869  1260127438                Will Trent   \n",
       "6870  1260008508  KBD Juniors - Qualifiers   \n",
       "6871       12551        Dil Hai Hindustani   \n",
       "6872  1260065225              On The Brink   \n",
       "6873  1260129361                 Mahanadhi   \n",
       "\n",
       "                                            description             genre  \\\n",
       "6869  SHOW ON BREAK- NEXT EPISODE ON 15TH FEB. Speci...             Crime   \n",
       "6870                 Match highlights of Kabaddi Junior             Sport   \n",
       "6871  Sway to the tunes of the best Hindi/Bollywood ...           Reality   \n",
       "6872  The series reveals the hidden splendours of In...  Animals & Nature   \n",
       "6873  Tragedy befalls a happy middle-class family af...            Family   \n",
       "\n",
       "      year age_rating  running_time  seasons  episodes type  \n",
       "6869  2023    U/A 16+           NaN      1.0       5.0   tv  \n",
       "6870  2019          U           NaN      1.0      32.0   tv  \n",
       "6871  2017    U/A 13+           NaN      2.0      57.0   tv  \n",
       "6872  2021     U/A 7+           NaN      2.0      18.0   tv  \n",
       "6873  2023    U/A 13+           NaN      1.0      10.0   tv  "
      ]
     },
     "execution_count": 13,
     "metadata": {},
     "output_type": "execute_result"
    }
   ],
   "source": [
    "df.tail()"
   ]
  },
  {
   "cell_type": "code",
   "execution_count": 15,
   "id": "75d8ebbd-9c05-47d2-9781-ed3e0a1e5e1a",
   "metadata": {},
   "outputs": [
    {
     "data": {
      "text/plain": [
       "(6874, 10)"
      ]
     },
     "execution_count": 15,
     "metadata": {},
     "output_type": "execute_result"
    }
   ],
   "source": [
    "df.shape"
   ]
  },
  {
   "cell_type": "code",
   "execution_count": 17,
   "id": "b9644f88-13f2-4866-be5e-e3f52ec90775",
   "metadata": {},
   "outputs": [
    {
     "data": {
      "text/plain": [
       "68740"
      ]
     },
     "execution_count": 17,
     "metadata": {},
     "output_type": "execute_result"
    }
   ],
   "source": [
    "df.size"
   ]
  },
  {
   "cell_type": "code",
   "execution_count": 19,
   "id": "8991f4dd-dfad-4b78-8832-39161d1292f6",
   "metadata": {},
   "outputs": [
    {
     "data": {
      "text/plain": [
       "Index(['hotstar_id', 'title', 'description', 'genre', 'year', 'age_rating',\n",
       "       'running_time', 'seasons', 'episodes', 'type'],\n",
       "      dtype='object')"
      ]
     },
     "execution_count": 19,
     "metadata": {},
     "output_type": "execute_result"
    }
   ],
   "source": [
    "df.columns"
   ]
  },
  {
   "cell_type": "code",
   "execution_count": 21,
   "id": "a8fa8443-5393-4fc2-9540-265b76a4419b",
   "metadata": {},
   "outputs": [
    {
     "data": {
      "text/plain": [
       "RangeIndex(start=0, stop=6874, step=1)"
      ]
     },
     "execution_count": 21,
     "metadata": {},
     "output_type": "execute_result"
    }
   ],
   "source": [
    "df.index"
   ]
  },
  {
   "cell_type": "code",
   "execution_count": 23,
   "id": "e4c1a186-083d-4bbb-8b9c-75e87eb7c40c",
   "metadata": {},
   "outputs": [
    {
     "data": {
      "text/plain": [
       "hotstar_id        int64\n",
       "title            object\n",
       "description      object\n",
       "genre            object\n",
       "year              int64\n",
       "age_rating       object\n",
       "running_time    float64\n",
       "seasons         float64\n",
       "episodes        float64\n",
       "type             object\n",
       "dtype: object"
      ]
     },
     "execution_count": 23,
     "metadata": {},
     "output_type": "execute_result"
    }
   ],
   "source": [
    "df.dtypes"
   ]
  },
  {
   "cell_type": "code",
   "execution_count": 27,
   "id": "18c7ab01-0f41-413a-a1e2-347b2cf98dd7",
   "metadata": {},
   "outputs": [
    {
     "name": "stdout",
     "output_type": "stream",
     "text": [
      "<class 'pandas.core.frame.DataFrame'>\n",
      "RangeIndex: 6874 entries, 0 to 6873\n",
      "Data columns (total 10 columns):\n",
      " #   Column        Non-Null Count  Dtype  \n",
      "---  ------        --------------  -----  \n",
      " 0   hotstar_id    6874 non-null   int64  \n",
      " 1   title         6874 non-null   object \n",
      " 2   description   6874 non-null   object \n",
      " 3   genre         6874 non-null   object \n",
      " 4   year          6874 non-null   int64  \n",
      " 5   age_rating    6874 non-null   object \n",
      " 6   running_time  4568 non-null   float64\n",
      " 7   seasons       2306 non-null   float64\n",
      " 8   episodes      2306 non-null   float64\n",
      " 9   type          6874 non-null   object \n",
      "dtypes: float64(3), int64(2), object(5)\n",
      "memory usage: 537.2+ KB\n"
     ]
    }
   ],
   "source": [
    "df.info()"
   ]
  },
  {
   "cell_type": "code",
   "execution_count": 29,
   "id": "2061c440-5b84-43ff-8c84-6da4c3244488",
   "metadata": {},
   "outputs": [
    {
     "data": {
      "text/plain": [
       "hotstar_id      6874\n",
       "title           6677\n",
       "description     6815\n",
       "genre             37\n",
       "year              78\n",
       "age_rating         6\n",
       "running_time     187\n",
       "seasons           40\n",
       "episodes         495\n",
       "type               2\n",
       "dtype: int64"
      ]
     },
     "execution_count": 29,
     "metadata": {},
     "output_type": "execute_result"
    }
   ],
   "source": [
    "df.nunique()"
   ]
  },
  {
   "cell_type": "code",
   "execution_count": 31,
   "id": "49995e52-44ba-4603-b714-87fde03998ae",
   "metadata": {},
   "outputs": [
    {
     "data": {
      "text/plain": [
       "0       False\n",
       "1       False\n",
       "2       False\n",
       "3       False\n",
       "4       False\n",
       "        ...  \n",
       "6869    False\n",
       "6870    False\n",
       "6871    False\n",
       "6872    False\n",
       "6873    False\n",
       "Length: 6874, dtype: bool"
      ]
     },
     "execution_count": 31,
     "metadata": {},
     "output_type": "execute_result"
    }
   ],
   "source": [
    "df.duplicated()"
   ]
  },
  {
   "cell_type": "code",
   "execution_count": 33,
   "id": "87856b3f-01cb-4d92-9be0-5a435bcc2a29",
   "metadata": {},
   "outputs": [
    {
     "data": {
      "text/html": [
       "<div>\n",
       "<style scoped>\n",
       "    .dataframe tbody tr th:only-of-type {\n",
       "        vertical-align: middle;\n",
       "    }\n",
       "\n",
       "    .dataframe tbody tr th {\n",
       "        vertical-align: top;\n",
       "    }\n",
       "\n",
       "    .dataframe thead th {\n",
       "        text-align: right;\n",
       "    }\n",
       "</style>\n",
       "<table border=\"1\" class=\"dataframe\">\n",
       "  <thead>\n",
       "    <tr style=\"text-align: right;\">\n",
       "      <th></th>\n",
       "      <th>hotstar_id</th>\n",
       "      <th>title</th>\n",
       "      <th>description</th>\n",
       "      <th>genre</th>\n",
       "      <th>year</th>\n",
       "      <th>age_rating</th>\n",
       "      <th>running_time</th>\n",
       "      <th>seasons</th>\n",
       "      <th>episodes</th>\n",
       "      <th>type</th>\n",
       "    </tr>\n",
       "  </thead>\n",
       "  <tbody>\n",
       "  </tbody>\n",
       "</table>\n",
       "</div>"
      ],
      "text/plain": [
       "Empty DataFrame\n",
       "Columns: [hotstar_id, title, description, genre, year, age_rating, running_time, seasons, episodes, type]\n",
       "Index: []"
      ]
     },
     "execution_count": 33,
     "metadata": {},
     "output_type": "execute_result"
    }
   ],
   "source": [
    "df[df.duplicated()]"
   ]
  },
  {
   "cell_type": "code",
   "execution_count": 35,
   "id": "8e837a59-7515-4051-a748-7226bb0149de",
   "metadata": {},
   "outputs": [
    {
     "data": {
      "text/plain": [
       "hotstar_id         0\n",
       "title              0\n",
       "description        0\n",
       "genre              0\n",
       "year               0\n",
       "age_rating         0\n",
       "running_time    2306\n",
       "seasons         4568\n",
       "episodes        4568\n",
       "type               0\n",
       "dtype: int64"
      ]
     },
     "execution_count": 35,
     "metadata": {},
     "output_type": "execute_result"
    }
   ],
   "source": [
    "df.isnull().sum()"
   ]
  },
  {
   "cell_type": "code",
   "execution_count": 37,
   "id": "3a3abdfa-f433-46e8-9eb2-79441a3ddfc7",
   "metadata": {},
   "outputs": [
    {
     "data": {
      "text/plain": [
       "<Axes: >"
      ]
     },
     "execution_count": 37,
     "metadata": {},
     "output_type": "execute_result"
    },
    {
     "data": {
      "image/png": "[encoded data removed]",
      "text/plain": [
       "<Figure size 640x480 with 2 Axes>"
      ]
     },
     "metadata": {},
     "output_type": "display_data"
    }
   ],
   "source": [
    "import seaborn as sns\n",
    "sns.heatmap(data=df.isnull())"
   ]
  },
  {
   "cell_type": "code",
   "execution_count": 39,
   "id": "702e6c98-9285-4c71-8c6d-c869b19f1e89",
   "metadata": {},
   "outputs": [
    {
     "data": {
      "text/html": [
       "<div>\n",
       "<style scoped>\n",
       "    .dataframe tbody tr th:only-of-type {\n",
       "        vertical-align: middle;\n",
       "    }\n",
       "\n",
       "    .dataframe tbody tr th {\n",
       "        vertical-align: top;\n",
       "    }\n",
       "\n",
       "    .dataframe thead th {\n",
       "        text-align: right;\n",
       "    }\n",
       "</style>\n",
       "<table border=\"1\" class=\"dataframe\">\n",
       "  <thead>\n",
       "    <tr style=\"text-align: right;\">\n",
       "      <th></th>\n",
       "      <th>hotstar_id</th>\n",
       "      <th>title</th>\n",
       "      <th>description</th>\n",
       "      <th>genre</th>\n",
       "      <th>year</th>\n",
       "      <th>age_rating</th>\n",
       "      <th>running_time</th>\n",
       "      <th>seasons</th>\n",
       "      <th>episodes</th>\n",
       "      <th>type</th>\n",
       "    </tr>\n",
       "  </thead>\n",
       "  <tbody>\n",
       "    <tr>\n",
       "      <th>2028</th>\n",
       "      <td>1000103403</td>\n",
       "      <td>Loki</td>\n",
       "      <td>An autorickshaw driver is known to be a notori...</td>\n",
       "      <td>Drama</td>\n",
       "      <td>2013</td>\n",
       "      <td>U/A 13+</td>\n",
       "      <td>127.0</td>\n",
       "      <td>NaN</td>\n",
       "      <td>NaN</td>\n",
       "      <td>movie</td>\n",
       "    </tr>\n",
       "    <tr>\n",
       "      <th>4772</th>\n",
       "      <td>1260064562</td>\n",
       "      <td>Loki</td>\n",
       "      <td>The mercurial villain Loki resumes his role as...</td>\n",
       "      <td>Superhero</td>\n",
       "      <td>2021</td>\n",
       "      <td>U/A 13+</td>\n",
       "      <td>NaN</td>\n",
       "      <td>1.0</td>\n",
       "      <td>6.0</td>\n",
       "      <td>tv</td>\n",
       "    </tr>\n",
       "    <tr>\n",
       "      <th>4873</th>\n",
       "      <td>1260063451</td>\n",
       "      <td>Loki</td>\n",
       "      <td>The mercurial villain Loki resumes his role as...</td>\n",
       "      <td>Superhero</td>\n",
       "      <td>2021</td>\n",
       "      <td>U/A 13+</td>\n",
       "      <td>NaN</td>\n",
       "      <td>1.0</td>\n",
       "      <td>6.0</td>\n",
       "      <td>tv</td>\n",
       "    </tr>\n",
       "  </tbody>\n",
       "</table>\n",
       "</div>"
      ],
      "text/plain": [
       "      hotstar_id title                                        description  \\\n",
       "2028  1000103403  Loki  An autorickshaw driver is known to be a notori...   \n",
       "4772  1260064562  Loki  The mercurial villain Loki resumes his role as...   \n",
       "4873  1260063451  Loki  The mercurial villain Loki resumes his role as...   \n",
       "\n",
       "          genre  year age_rating  running_time  seasons  episodes   type  \n",
       "2028      Drama  2013    U/A 13+         127.0      NaN       NaN  movie  \n",
       "4772  Superhero  2021    U/A 13+           NaN      1.0       6.0     tv  \n",
       "4873  Superhero  2021    U/A 13+           NaN      1.0       6.0     tv  "
      ]
     },
     "execution_count": 39,
     "metadata": {},
     "output_type": "execute_result"
    }
   ],
   "source": [
    "df[df['title'].isin(['Loki'])]    "
   ]
  },
  {
   "cell_type": "code",
   "execution_count": 41,
   "id": "3524b3b6-55d7-4708-8e23-8476aaed2e5d",
   "metadata": {},
   "outputs": [],
   "source": [
    "import matplotlib.pyplot as plt\n",
    "import pandas as pd"
   ]
  },
  {
   "cell_type": "code",
   "execution_count": 43,
   "id": "5bb0b7dc-35c7-43fb-b923-7be2cd43dc8b",
   "metadata": {},
   "outputs": [
    {
     "data": {
      "text/plain": [
       "year\n",
       "2022    609\n",
       "Name: count, dtype: int64"
      ]
     },
     "execution_count": 43,
     "metadata": {},
     "output_type": "execute_result"
    }
   ],
   "source": [
    "df['year'].value_counts().head(1)         "
   ]
  },
  {
   "cell_type": "code",
   "execution_count": 47,
   "id": "79ee857b-8fb2-491f-a700-d63c417f0776",
   "metadata": {},
   "outputs": [
    {
     "data": {
      "text/plain": [
       "<Axes: xlabel='year'>"
      ]
     },
     "execution_count": 47,
     "metadata": {},
     "output_type": "execute_result"
    },
    {
     "data": {
      "image/png": "[encoded data removed]",
      "text/plain": [
       "<Figure size 640x480 with 1 Axes>"
      ]
     },
     "metadata": {},
     "output_type": "display_data"
    }
   ],
   "source": [
    "#In this case we've took the top 20 release year with highest number of releases and drew the plot for the same.\n",
    "df['year'].value_counts().head(20).plot(kind='bar')          "
   ]
  },
  {
   "cell_type": "code",
   "execution_count": 49,
   "id": "fc0d21bf-1a13-4c39-b1a4-849a0b133eef",
   "metadata": {},
   "outputs": [],
   "source": [
    "#How many TV Shows and how many Movies are there in total dataset?Show the plot for the same using Seaborn library."
   ]
  },
  {
   "cell_type": "code",
   "execution_count": 51,
   "id": "9726c6c2-ce69-4058-a700-83da8cd495fa",
   "metadata": {},
   "outputs": [
    {
     "data": {
      "text/plain": [
       "type\n",
       "movie    4568\n",
       "tv       2306\n",
       "Name: type, dtype: int64"
      ]
     },
     "execution_count": 51,
     "metadata": {},
     "output_type": "execute_result"
    }
   ],
   "source": [
    "df.groupby('type').type.count()"
   ]
  },
  {
   "cell_type": "code",
   "execution_count": 53,
   "id": "c3ecb7bb-6c2a-41f3-9cf8-af30c118458c",
   "metadata": {},
   "outputs": [
    {
     "data": {
      "image/png": "[encoded data removed]",
      "text/plain": [
       "<Figure size 500x500 with 1 Axes>"
      ]
     },
     "metadata": {},
     "output_type": "display_data"
    }
   ],
   "source": [
    "fig=plt.figure(figsize=(5,5))\n",
    "axes=fig.add_axes([0,0,1,1])\n",
    "axes.set_ylabel('Year of Release')\n",
    "axes.set_xlabel('Type')\n",
    "sns.countplot(x=df['type'])\n",
    "plt.show()"
   ]
  },
  {
   "cell_type": "code",
   "execution_count": 55,
   "id": "d90fa33b-1d90-4b25-8826-3f5865785d85",
   "metadata": {},
   "outputs": [],
   "source": [
    "#Show the Movies that were released in year 2012."
   ]
  },
  {
   "cell_type": "code",
   "execution_count": 69,
   "id": "b33c4f91-c4c6-4352-b0a0-5c7ea1bf6c22",
   "metadata": {},
   "outputs": [
    {
     "data": {
      "text/html": [
       "<div>\n",
       "<style scoped>\n",
       "    .dataframe tbody tr th:only-of-type {\n",
       "        vertical-align: middle;\n",
       "    }\n",
       "\n",
       "    .dataframe tbody tr th {\n",
       "        vertical-align: top;\n",
       "    }\n",
       "\n",
       "    .dataframe thead th {\n",
       "        text-align: right;\n",
       "    }\n",
       "</style>\n",
       "<table border=\"1\" class=\"dataframe\">\n",
       "  <thead>\n",
       "    <tr style=\"text-align: right;\">\n",
       "      <th></th>\n",
       "      <th>hotstar_id</th>\n",
       "      <th>title</th>\n",
       "      <th>description</th>\n",
       "      <th>genre</th>\n",
       "      <th>year</th>\n",
       "      <th>age_rating</th>\n",
       "      <th>running_time</th>\n",
       "      <th>seasons</th>\n",
       "      <th>episodes</th>\n",
       "      <th>type</th>\n",
       "    </tr>\n",
       "  </thead>\n",
       "  <tbody>\n",
       "    <tr>\n",
       "      <th>0</th>\n",
       "      <td>1000087439</td>\n",
       "      <td>Sambha - Aajcha Chawa</td>\n",
       "      <td>A young man sets off on a mission to clean up ...</td>\n",
       "      <td>Action</td>\n",
       "      <td>2012</td>\n",
       "      <td>U/A 16+</td>\n",
       "      <td>141.0</td>\n",
       "      <td>NaN</td>\n",
       "      <td>NaN</td>\n",
       "      <td>movie</td>\n",
       "    </tr>\n",
       "    <tr>\n",
       "      <th>100</th>\n",
       "      <td>1770000300</td>\n",
       "      <td>Prometheus</td>\n",
       "      <td>In the year 2093, a group of explorers on a se...</td>\n",
       "      <td>Action</td>\n",
       "      <td>2012</td>\n",
       "      <td>U/A 16+</td>\n",
       "      <td>123.0</td>\n",
       "      <td>NaN</td>\n",
       "      <td>NaN</td>\n",
       "      <td>movie</td>\n",
       "    </tr>\n",
       "    <tr>\n",
       "      <th>124</th>\n",
       "      <td>1770002765</td>\n",
       "      <td>Paglu 2</td>\n",
       "      <td>College student Dev falls in love with Riya. H...</td>\n",
       "      <td>Comedy</td>\n",
       "      <td>2012</td>\n",
       "      <td>U/A 13+</td>\n",
       "      <td>141.0</td>\n",
       "      <td>NaN</td>\n",
       "      <td>NaN</td>\n",
       "      <td>movie</td>\n",
       "    </tr>\n",
       "    <tr>\n",
       "      <th>136</th>\n",
       "      <td>1000064725</td>\n",
       "      <td>Bhaktha Sankara</td>\n",
       "      <td>When his parents are paralysed, Sankara prays ...</td>\n",
       "      <td>Family</td>\n",
       "      <td>2012</td>\n",
       "      <td>U/A 13+</td>\n",
       "      <td>128.0</td>\n",
       "      <td>NaN</td>\n",
       "      <td>NaN</td>\n",
       "      <td>movie</td>\n",
       "    </tr>\n",
       "    <tr>\n",
       "      <th>140</th>\n",
       "      <td>1260027147</td>\n",
       "      <td>Tooth Fairy 2</td>\n",
       "      <td>After a man accidentally tells the kids he's d...</td>\n",
       "      <td>Adventure</td>\n",
       "      <td>2012</td>\n",
       "      <td>U/A 7+</td>\n",
       "      <td>90.0</td>\n",
       "      <td>NaN</td>\n",
       "      <td>NaN</td>\n",
       "      <td>movie</td>\n",
       "    </tr>\n",
       "    <tr>\n",
       "      <th>...</th>\n",
       "      <td>...</td>\n",
       "      <td>...</td>\n",
       "      <td>...</td>\n",
       "      <td>...</td>\n",
       "      <td>...</td>\n",
       "      <td>...</td>\n",
       "      <td>...</td>\n",
       "      <td>...</td>\n",
       "      <td>...</td>\n",
       "      <td>...</td>\n",
       "    </tr>\n",
       "    <tr>\n",
       "      <th>4458</th>\n",
       "      <td>1000102049</td>\n",
       "      <td>Run Baby Run</td>\n",
       "      <td>Venu, a news cameraman, reaches Kerala to cove...</td>\n",
       "      <td>Action</td>\n",
       "      <td>2012</td>\n",
       "      <td>U/A 13+</td>\n",
       "      <td>134.0</td>\n",
       "      <td>NaN</td>\n",
       "      <td>NaN</td>\n",
       "      <td>movie</td>\n",
       "    </tr>\n",
       "    <tr>\n",
       "      <th>4474</th>\n",
       "      <td>1000098152</td>\n",
       "      <td>Tharkasha</td>\n",
       "      <td>Vijay and Hema lead a happy married life until...</td>\n",
       "      <td>Drama</td>\n",
       "      <td>2012</td>\n",
       "      <td>U/A 16+</td>\n",
       "      <td>116.0</td>\n",
       "      <td>NaN</td>\n",
       "      <td>NaN</td>\n",
       "      <td>movie</td>\n",
       "    </tr>\n",
       "    <tr>\n",
       "      <th>4501</th>\n",
       "      <td>1000233907</td>\n",
       "      <td>Run Baby Run</td>\n",
       "      <td>Venu, works for Reuters as a cameraman. While ...</td>\n",
       "      <td>Action</td>\n",
       "      <td>2012</td>\n",
       "      <td>U/A 13+</td>\n",
       "      <td>124.0</td>\n",
       "      <td>NaN</td>\n",
       "      <td>NaN</td>\n",
       "      <td>movie</td>\n",
       "    </tr>\n",
       "    <tr>\n",
       "      <th>4559</th>\n",
       "      <td>1000164170</td>\n",
       "      <td>Sadhane</td>\n",
       "      <td>While blind Arundhathi's stepmom is against he...</td>\n",
       "      <td>Drama</td>\n",
       "      <td>2012</td>\n",
       "      <td>U/A 7+</td>\n",
       "      <td>106.0</td>\n",
       "      <td>NaN</td>\n",
       "      <td>NaN</td>\n",
       "      <td>movie</td>\n",
       "    </tr>\n",
       "    <tr>\n",
       "      <th>4562</th>\n",
       "      <td>1770000297</td>\n",
       "      <td>Diary Of A Wimpy Kid: Dog Days</td>\n",
       "      <td>When Greg's dad threatens him to send to milit...</td>\n",
       "      <td>Comedy</td>\n",
       "      <td>2012</td>\n",
       "      <td>U/A 7+</td>\n",
       "      <td>93.0</td>\n",
       "      <td>NaN</td>\n",
       "      <td>NaN</td>\n",
       "      <td>movie</td>\n",
       "    </tr>\n",
       "  </tbody>\n",
       "</table>\n",
       "<p>155 rows × 10 columns</p>\n",
       "</div>"
      ],
      "text/plain": [
       "      hotstar_id                           title  \\\n",
       "0     1000087439           Sambha - Aajcha Chawa   \n",
       "100   1770000300                      Prometheus   \n",
       "124   1770002765                         Paglu 2   \n",
       "136   1000064725                 Bhaktha Sankara   \n",
       "140   1260027147                   Tooth Fairy 2   \n",
       "...          ...                             ...   \n",
       "4458  1000102049                    Run Baby Run   \n",
       "4474  1000098152                       Tharkasha   \n",
       "4501  1000233907                    Run Baby Run   \n",
       "4559  1000164170                         Sadhane   \n",
       "4562  1770000297  Diary Of A Wimpy Kid: Dog Days   \n",
       "\n",
       "                                            description      genre  year  \\\n",
       "0     A young man sets off on a mission to clean up ...     Action  2012   \n",
       "100   In the year 2093, a group of explorers on a se...     Action  2012   \n",
       "124   College student Dev falls in love with Riya. H...     Comedy  2012   \n",
       "136   When his parents are paralysed, Sankara prays ...     Family  2012   \n",
       "140   After a man accidentally tells the kids he's d...  Adventure  2012   \n",
       "...                                                 ...        ...   ...   \n",
       "4458  Venu, a news cameraman, reaches Kerala to cove...     Action  2012   \n",
       "4474  Vijay and Hema lead a happy married life until...      Drama  2012   \n",
       "4501  Venu, works for Reuters as a cameraman. While ...     Action  2012   \n",
       "4559  While blind Arundhathi's stepmom is against he...      Drama  2012   \n",
       "4562  When Greg's dad threatens him to send to milit...     Comedy  2012   \n",
       "\n",
       "     age_rating  running_time  seasons  episodes   type  \n",
       "0       U/A 16+         141.0      NaN       NaN  movie  \n",
       "100     U/A 16+         123.0      NaN       NaN  movie  \n",
       "124     U/A 13+         141.0      NaN       NaN  movie  \n",
       "136     U/A 13+         128.0      NaN       NaN  movie  \n",
       "140      U/A 7+          90.0      NaN       NaN  movie  \n",
       "...         ...           ...      ...       ...    ...  \n",
       "4458    U/A 13+         134.0      NaN       NaN  movie  \n",
       "4474    U/A 16+         116.0      NaN       NaN  movie  \n",
       "4501    U/A 13+         124.0      NaN       NaN  movie  \n",
       "4559     U/A 7+         106.0      NaN       NaN  movie  \n",
       "4562     U/A 7+          93.0      NaN       NaN  movie  \n",
       "\n",
       "[155 rows x 10 columns]"
      ]
     },
     "execution_count": 69,
     "metadata": {},
     "output_type": "execute_result"
    }
   ],
   "source": [
    "df[(df['type']=='movie') & (df['year']==2012)]"
   ]
  },
  {
   "cell_type": "code",
   "execution_count": 71,
   "id": "fadd82e8-2be9-4b12-9709-c1cc29efdb3d",
   "metadata": {},
   "outputs": [],
   "source": [
    "#Show the titles only of all movies of the genre 'Action'."
   ]
  },
  {
   "cell_type": "code",
   "execution_count": 79,
   "id": "698d9edf-fa38-4294-a97c-ae983e1f44fb",
   "metadata": {},
   "outputs": [
    {
     "data": {
      "text/plain": [
       "0         Sambha - Aajcha Chawa\n",
       "13                      Maari 2\n",
       "14                          FIR\n",
       "22                  Pulimurugan\n",
       "26                   Poysa Usul\n",
       "                 ...           \n",
       "4514                     Kabali\n",
       "4529                     Madras\n",
       "4530                 Meaghamann\n",
       "4548                      Force\n",
       "4556    Mesthri for the Society\n",
       "Name: title, Length: 559, dtype: object"
      ]
     },
     "execution_count": 79,
     "metadata": {},
     "output_type": "execute_result"
    }
   ],
   "source": [
    "df[(df['type']=='movie')&(df['genre']=='Action')]['title']"
   ]
  },
  {
   "cell_type": "code",
   "execution_count": 81,
   "id": "4b24d530-b926-4d33-b7b3-9616c686d9ab",
   "metadata": {},
   "outputs": [],
   "source": [
    "#Show the top 5 movies by running time in the dataset."
   ]
  },
  {
   "cell_type": "code",
   "execution_count": 83,
   "id": "af4b1a7d-7220-43d8-9617-330606520d24",
   "metadata": {},
   "outputs": [
    {
     "data": {
      "text/plain": [
       "running_time\n",
       "134.0    87\n",
       "131.0    78\n",
       "133.0    75\n",
       "128.0    69\n",
       "126.0    67\n",
       "Name: count, dtype: int64"
      ]
     },
     "execution_count": 83,
     "metadata": {},
     "output_type": "execute_result"
    }
   ],
   "source": [
    "df['running_time'].value_counts().head(5) "
   ]
  },
  {
   "cell_type": "code",
   "execution_count": 85,
   "id": "a5f0438f-a980-496e-8387-2ac5a4836667",
   "metadata": {},
   "outputs": [],
   "source": [
    "#Categorize all ratings in the dataset."
   ]
  },
  {
   "cell_type": "code",
   "execution_count": 87,
   "id": "63298347-50eb-4163-a99a-d563f4c3e7d4",
   "metadata": {},
   "outputs": [
    {
     "data": {
      "text/plain": [
       "6"
      ]
     },
     "execution_count": 87,
     "metadata": {},
     "output_type": "execute_result"
    }
   ],
   "source": [
    "df['age_rating'].nunique()"
   ]
  },
  {
   "cell_type": "code",
   "execution_count": 89,
   "id": "0afbb342-171c-4b58-b2ae-5464cd21a9f0",
   "metadata": {},
   "outputs": [
    {
     "data": {
      "text/plain": [
       "array(['U/A 16+', 'U', 'U/A 7+', 'U/A 13+', 'A', 'PG'], dtype=object)"
      ]
     },
     "execution_count": 89,
     "metadata": {},
     "output_type": "execute_result"
    }
   ],
   "source": [
    "df['age_rating'].unique()"
   ]
  },
  {
   "cell_type": "code",
   "execution_count": 117,
   "id": "10705fb2-6682-4cca-9ebf-c8de15732c4a",
   "metadata": {},
   "outputs": [],
   "source": [
    "#Show the titles of movies that were rated 'U/A 17+'."
   ]
  },
  {
   "cell_type": "code",
   "execution_count": 121,
   "id": "94ef29e5-6ff2-4116-8ea2-d4fe8ec70709",
   "metadata": {},
   "outputs": [
    {
     "data": {
      "text/html": [
       "<div>\n",
       "<style scoped>\n",
       "    .dataframe tbody tr th:only-of-type {\n",
       "        vertical-align: middle;\n",
       "    }\n",
       "\n",
       "    .dataframe tbody tr th {\n",
       "        vertical-align: top;\n",
       "    }\n",
       "\n",
       "    .dataframe thead th {\n",
       "        text-align: right;\n",
       "    }\n",
       "</style>\n",
       "<table border=\"1\" class=\"dataframe\">\n",
       "  <thead>\n",
       "    <tr style=\"text-align: right;\">\n",
       "      <th></th>\n",
       "      <th>hotstar_id</th>\n",
       "      <th>title</th>\n",
       "      <th>description</th>\n",
       "      <th>genre</th>\n",
       "      <th>year</th>\n",
       "      <th>age_rating</th>\n",
       "      <th>running_time</th>\n",
       "      <th>seasons</th>\n",
       "      <th>episodes</th>\n",
       "      <th>type</th>\n",
       "    </tr>\n",
       "  </thead>\n",
       "  <tbody>\n",
       "    <tr>\n",
       "      <th>4</th>\n",
       "      <td>1260018228</td>\n",
       "      <td>Sister Act</td>\n",
       "      <td>Rene, a lounge singer, decides to stay at a Ch...</td>\n",
       "      <td>Comedy</td>\n",
       "      <td>1992</td>\n",
       "      <td>U/A 7+</td>\n",
       "      <td>100.0</td>\n",
       "      <td>NaN</td>\n",
       "      <td>NaN</td>\n",
       "      <td>movie</td>\n",
       "    </tr>\n",
       "    <tr>\n",
       "      <th>11</th>\n",
       "      <td>1260078726</td>\n",
       "      <td>Rays Of Change</td>\n",
       "      <td>Delve deep into the various stages involved in...</td>\n",
       "      <td>Documentary</td>\n",
       "      <td>2021</td>\n",
       "      <td>U/A 7+</td>\n",
       "      <td>42.0</td>\n",
       "      <td>NaN</td>\n",
       "      <td>NaN</td>\n",
       "      <td>movie</td>\n",
       "    </tr>\n",
       "    <tr>\n",
       "      <th>12</th>\n",
       "      <td>1660000073</td>\n",
       "      <td>Secretariat</td>\n",
       "      <td>Despite her limited knowledge, Penny takes cha...</td>\n",
       "      <td>Historical</td>\n",
       "      <td>2010</td>\n",
       "      <td>U/A 7+</td>\n",
       "      <td>117.0</td>\n",
       "      <td>NaN</td>\n",
       "      <td>NaN</td>\n",
       "      <td>movie</td>\n",
       "    </tr>\n",
       "    <tr>\n",
       "      <th>19</th>\n",
       "      <td>1260039728</td>\n",
       "      <td>Back to the Titanic</td>\n",
       "      <td>This special feature documents the first manne...</td>\n",
       "      <td>Documentary</td>\n",
       "      <td>2020</td>\n",
       "      <td>U/A 7+</td>\n",
       "      <td>44.0</td>\n",
       "      <td>NaN</td>\n",
       "      <td>NaN</td>\n",
       "      <td>movie</td>\n",
       "    </tr>\n",
       "    <tr>\n",
       "      <th>30</th>\n",
       "      <td>1000112990</td>\n",
       "      <td>Godhi Banna Sadharana Mykattu</td>\n",
       "      <td>When an Alzheimer's patient goes suddenly miss...</td>\n",
       "      <td>Drama</td>\n",
       "      <td>2016</td>\n",
       "      <td>U/A 7+</td>\n",
       "      <td>143.0</td>\n",
       "      <td>NaN</td>\n",
       "      <td>NaN</td>\n",
       "      <td>movie</td>\n",
       "    </tr>\n",
       "    <tr>\n",
       "      <th>...</th>\n",
       "      <td>...</td>\n",
       "      <td>...</td>\n",
       "      <td>...</td>\n",
       "      <td>...</td>\n",
       "      <td>...</td>\n",
       "      <td>...</td>\n",
       "      <td>...</td>\n",
       "      <td>...</td>\n",
       "      <td>...</td>\n",
       "      <td>...</td>\n",
       "    </tr>\n",
       "    <tr>\n",
       "      <th>4552</th>\n",
       "      <td>1260061064</td>\n",
       "      <td>Cecil: The Legacy Of A King</td>\n",
       "      <td>While Cecil's demise at the hand of hunters wa...</td>\n",
       "      <td>Animals &amp; Nature</td>\n",
       "      <td>2021</td>\n",
       "      <td>U/A 7+</td>\n",
       "      <td>43.0</td>\n",
       "      <td>NaN</td>\n",
       "      <td>NaN</td>\n",
       "      <td>movie</td>\n",
       "    </tr>\n",
       "    <tr>\n",
       "      <th>4554</th>\n",
       "      <td>1260055224</td>\n",
       "      <td>Diary Of A Teen Leopard</td>\n",
       "      <td>Pemba, a mamma's boy, is forced to mature fast...</td>\n",
       "      <td>Animals &amp; Nature</td>\n",
       "      <td>2021</td>\n",
       "      <td>U/A 7+</td>\n",
       "      <td>44.0</td>\n",
       "      <td>NaN</td>\n",
       "      <td>NaN</td>\n",
       "      <td>movie</td>\n",
       "    </tr>\n",
       "    <tr>\n",
       "      <th>4559</th>\n",
       "      <td>1000164170</td>\n",
       "      <td>Sadhane</td>\n",
       "      <td>While blind Arundhathi's stepmom is against he...</td>\n",
       "      <td>Drama</td>\n",
       "      <td>2012</td>\n",
       "      <td>U/A 7+</td>\n",
       "      <td>106.0</td>\n",
       "      <td>NaN</td>\n",
       "      <td>NaN</td>\n",
       "      <td>movie</td>\n",
       "    </tr>\n",
       "    <tr>\n",
       "      <th>4562</th>\n",
       "      <td>1770000297</td>\n",
       "      <td>Diary Of A Wimpy Kid: Dog Days</td>\n",
       "      <td>When Greg's dad threatens him to send to milit...</td>\n",
       "      <td>Comedy</td>\n",
       "      <td>2012</td>\n",
       "      <td>U/A 7+</td>\n",
       "      <td>93.0</td>\n",
       "      <td>NaN</td>\n",
       "      <td>NaN</td>\n",
       "      <td>movie</td>\n",
       "    </tr>\n",
       "    <tr>\n",
       "      <th>4566</th>\n",
       "      <td>1260065445</td>\n",
       "      <td>Playing with Sharks</td>\n",
       "      <td>\"Playing with Sharks\" captures the life of Val...</td>\n",
       "      <td>Documentary</td>\n",
       "      <td>2021</td>\n",
       "      <td>U/A 7+</td>\n",
       "      <td>90.0</td>\n",
       "      <td>NaN</td>\n",
       "      <td>NaN</td>\n",
       "      <td>movie</td>\n",
       "    </tr>\n",
       "  </tbody>\n",
       "</table>\n",
       "<p>721 rows × 10 columns</p>\n",
       "</div>"
      ],
      "text/plain": [
       "      hotstar_id                           title  \\\n",
       "4     1260018228                      Sister Act   \n",
       "11    1260078726                  Rays Of Change   \n",
       "12    1660000073                     Secretariat   \n",
       "19    1260039728             Back to the Titanic   \n",
       "30    1000112990   Godhi Banna Sadharana Mykattu   \n",
       "...          ...                             ...   \n",
       "4552  1260061064     Cecil: The Legacy Of A King   \n",
       "4554  1260055224         Diary Of A Teen Leopard   \n",
       "4559  1000164170                         Sadhane   \n",
       "4562  1770000297  Diary Of A Wimpy Kid: Dog Days   \n",
       "4566  1260065445             Playing with Sharks   \n",
       "\n",
       "                                            description             genre  \\\n",
       "4     Rene, a lounge singer, decides to stay at a Ch...            Comedy   \n",
       "11    Delve deep into the various stages involved in...       Documentary   \n",
       "12    Despite her limited knowledge, Penny takes cha...        Historical   \n",
       "19    This special feature documents the first manne...       Documentary   \n",
       "30    When an Alzheimer's patient goes suddenly miss...             Drama   \n",
       "...                                                 ...               ...   \n",
       "4552  While Cecil's demise at the hand of hunters wa...  Animals & Nature   \n",
       "4554  Pemba, a mamma's boy, is forced to mature fast...  Animals & Nature   \n",
       "4559  While blind Arundhathi's stepmom is against he...             Drama   \n",
       "4562  When Greg's dad threatens him to send to milit...            Comedy   \n",
       "4566  \"Playing with Sharks\" captures the life of Val...       Documentary   \n",
       "\n",
       "      year age_rating running_time  seasons  episodes   type  \n",
       "4     1992     U/A 7+        100.0      NaN       NaN  movie  \n",
       "11    2021     U/A 7+         42.0      NaN       NaN  movie  \n",
       "12    2010     U/A 7+        117.0      NaN       NaN  movie  \n",
       "19    2020     U/A 7+         44.0      NaN       NaN  movie  \n",
       "30    2016     U/A 7+        143.0      NaN       NaN  movie  \n",
       "...    ...        ...          ...      ...       ...    ...  \n",
       "4552  2021     U/A 7+         43.0      NaN       NaN  movie  \n",
       "4554  2021     U/A 7+         44.0      NaN       NaN  movie  \n",
       "4559  2012     U/A 7+        106.0      NaN       NaN  movie  \n",
       "4562  2012     U/A 7+         93.0      NaN       NaN  movie  \n",
       "4566  2021     U/A 7+         90.0      NaN       NaN  movie  \n",
       "\n",
       "[721 rows x 10 columns]"
      ]
     },
     "execution_count": 121,
     "metadata": {},
     "output_type": "execute_result"
    }
   ],
   "source": [
    "df[(df['age_rating']=='U/A 7+') & (df['type']=='movie')]"
   ]
  },
  {
   "cell_type": "code",
   "execution_count": null,
   "id": "586c3e94-f44d-4f7f-89ff-6446ce0c74e6",
   "metadata": {},
   "outputs": [],
   "source": [
    "                                                            #END OF PROJECT#"
   ]
  }
 ],
 "metadata": {
  "kernelspec": {
   "display_name": "Python 3 (ipykernel)",
   "language": "python",
   "name": "python3"
  },
  "language_info": {
   "codemirror_mode": {
    "name": "ipython",
    "version": 3
   },
   "file_extension": ".py",
   "mimetype": "text/x-python",
   "name": "python",
   "nbconvert_exporter": "python",
   "pygments_lexer": "ipython3",
   "version": "3.12.4"
  }
 },
 "nbformat": 4,
 "nbformat_minor": 5
}
